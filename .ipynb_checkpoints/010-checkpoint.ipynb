{
 "cells": [
  {
   "cell_type": "code",
   "execution_count": 3,
   "id": "1e4a032a",
   "metadata": {},
   "outputs": [],
   "source": [
    "a = []\n",
    "a.append(1)"
   ]
  },
  {
   "cell_type": "code",
   "execution_count": 53,
   "id": "b8767ca6",
   "metadata": {},
   "outputs": [
    {
     "name": "stdout",
     "output_type": "stream",
     "text": [
      "List is empty\n"
     ]
    }
   ],
   "source": [
    "if len(a) == 0:\n",
    "    print('List is empty')\n",
    "else:\n",
    "    a.pop()"
   ]
  },
  {
   "cell_type": "code",
   "execution_count": 56,
   "id": "9bb2eabc",
   "metadata": {},
   "outputs": [],
   "source": [
    "b = list(range(10))"
   ]
  },
  {
   "cell_type": "code",
   "execution_count": 58,
   "id": "711ad39b",
   "metadata": {},
   "outputs": [
    {
     "data": {
      "text/plain": [
       "[0, 1, 2, 3, 4, 5, 6, 7, 8, 9, 0, 1, 2, 3, 4, 5, 6, 7, 8, 9]"
      ]
     },
     "execution_count": 58,
     "metadata": {},
     "output_type": "execute_result"
    }
   ],
   "source": [
    "b*2"
   ]
  },
  {
   "cell_type": "code",
   "execution_count": 92,
   "id": "f9b50bfd",
   "metadata": {},
   "outputs": [],
   "source": [
    "a = list(range(50,100))\n",
    "b = list(range(1,10, 2))"
   ]
  },
  {
   "cell_type": "code",
   "execution_count": 77,
   "id": "c9bfcac2",
   "metadata": {},
   "outputs": [
    {
     "name": "stdout",
     "output_type": "stream",
     "text": [
      "5 9\n"
     ]
    }
   ],
   "source": [
    "print(a, b)"
   ]
  },
  {
   "cell_type": "code",
   "execution_count": 81,
   "id": "85c1e5e7",
   "metadata": {},
   "outputs": [
    {
     "name": "stdout",
     "output_type": "stream",
     "text": [
      "[1, 6, 15, 28, 45]\n"
     ]
    }
   ],
   "source": [
    "print(c)"
   ]
  },
  {
   "cell_type": "code",
   "execution_count": 76,
   "id": "289f317f",
   "metadata": {},
   "outputs": [],
   "source": [
    "c =[]"
   ]
  },
  {
   "cell_type": "code",
   "execution_count": 80,
   "id": "a26119b3",
   "metadata": {},
   "outputs": [],
   "source": [
    "for a, b in zip(a,b):\n",
    "    c.append(a*b)\n"
   ]
  },
  {
   "cell_type": "code",
   "execution_count": 97,
   "id": "8cd8a0e2",
   "metadata": {},
   "outputs": [],
   "source": [
    "c = zip(a,b)"
   ]
  },
  {
   "cell_type": "code",
   "execution_count": 98,
   "id": "cf673152",
   "metadata": {},
   "outputs": [
    {
     "name": "stdout",
     "output_type": "stream",
     "text": [
      "((50, 1), (51, 3), (52, 5), (53, 7), (54, 9))\n"
     ]
    }
   ],
   "source": [
    "print(tuple(c))"
   ]
  },
  {
   "cell_type": "code",
   "execution_count": 1,
   "id": "2101040f",
   "metadata": {},
   "outputs": [],
   "source": [
    "from skimage import io, filters\n",
    "from matplotlib import pyplot as plt"
   ]
  },
  {
   "cell_type": "code",
   "execution_count": 2,
   "id": "0a4596af",
   "metadata": {},
   "outputs": [],
   "source": [
    "img = io.imread('python_for_image_processing_APEER/images/Osteosarcoma_01.tif')"
   ]
  },
  {
   "cell_type": "code",
   "execution_count": 3,
   "id": "6d8a24ef",
   "metadata": {},
   "outputs": [
    {
     "name": "stderr",
     "output_type": "stream",
     "text": [
      "D:\\venv\\basic_use\\lib\\site-packages\\skimage\\_shared\\utils.py:348: RuntimeWarning: Images with dimensions (M, N, 3) are interpreted as 2D+RGB by default. Use `multichannel=False` to interpret as 3D image with last dimension of length 3.\n",
      "  return func(*args, **kwargs)\n"
     ]
    }
   ],
   "source": [
    "gaussian_img = filters.gaussian(image=img, sigma=1)"
   ]
  },
  {
   "cell_type": "code",
   "execution_count": 5,
   "id": "7ffb2c10",
   "metadata": {},
   "outputs": [
    {
     "name": "stdout",
     "output_type": "stream",
     "text": [
      "(1104, 1376, 3)\n",
      "[[[ 7 69 61]\n",
      "  [11 73 54]\n",
      "  [ 8 76 48]\n",
      "  ...\n",
      "  [13 54 10]\n",
      "  [18 59 12]\n",
      "  [ 8 70 14]]\n",
      "\n",
      " [[12 77 66]\n",
      "  [11 74 60]\n",
      "  [ 8 76 55]\n",
      "  ...\n",
      "  [13 46  9]\n",
      "  [21 77 15]\n",
      "  [12 85 19]]\n",
      "\n",
      " [[12 86 71]\n",
      "  [11 84 66]\n",
      "  [ 9 78 60]\n",
      "  ...\n",
      "  [10 33  9]\n",
      "  [10 54 11]\n",
      "  [ 5 56 11]]\n",
      "\n",
      " ...\n",
      "\n",
      " [[ 2 34  7]\n",
      "  [ 3 27  5]\n",
      "  [ 4 28  6]\n",
      "  ...\n",
      "  [ 1  0  0]\n",
      "  [ 1  0  0]\n",
      "  [ 0  1  0]]\n",
      "\n",
      " [[ 2 35  7]\n",
      "  [ 2 30  6]\n",
      "  [ 5 27  5]\n",
      "  ...\n",
      "  [ 2  3  0]\n",
      "  [ 1  2  1]\n",
      "  [ 0  0  0]]\n",
      "\n",
      " [[ 3 35  7]\n",
      "  [ 3 39  7]\n",
      "  [ 4 35  8]\n",
      "  ...\n",
      "  [ 0  1  0]\n",
      "  [ 1  2  1]\n",
      "  [ 3  1  0]]]\n"
     ]
    }
   ],
   "source": [
    "print(img.shape)\n",
    "print(img)"
   ]
  },
  {
   "cell_type": "code",
   "execution_count": 6,
   "id": "023ac8f0",
   "metadata": {},
   "outputs": [],
   "source": [
    "keys = ('name', 'age', 'food')\n",
    "values = ('Monty', 42, 'spam')"
   ]
  },
  {
   "cell_type": "code",
   "execution_count": 15,
   "id": "3e754fb8",
   "metadata": {},
   "outputs": [],
   "source": [
    "new_dict = {}"
   ]
  },
  {
   "cell_type": "code",
   "execution_count": 12,
   "id": "e662804c",
   "metadata": {},
   "outputs": [],
   "source": [
    "new_dict = zip(keys, values)"
   ]
  },
  {
   "cell_type": "code",
   "execution_count": 17,
   "id": "6f9950e8",
   "metadata": {},
   "outputs": [],
   "source": [
    "for key, value in zip(keys, values):\n",
    "    new_dict[key] = value"
   ]
  },
  {
   "cell_type": "code",
   "execution_count": 22,
   "id": "4b276fe8",
   "metadata": {},
   "outputs": [
    {
     "name": "stdout",
     "output_type": "stream",
     "text": [
      "nama: \n",
      "\n"
     ]
    }
   ],
   "source": [
    "key = str('nama: ')\n",
    "value = str()\n",
    "print(key)\n",
    "print(value)"
   ]
  },
  {
   "cell_type": "code",
   "execution_count": 28,
   "id": "127e2385",
   "metadata": {},
   "outputs": [
    {
     "name": "stdout",
     "output_type": "stream",
     "text": [
      "key: nama\n",
      "value: tanah\n"
     ]
    }
   ],
   "source": [
    "key = str(input('key: '))\n",
    "value = str(input('value: '))\n",
    "new_dict[key] = value"
   ]
  },
  {
   "cell_type": "code",
   "execution_count": 33,
   "id": "c3f5f101",
   "metadata": {},
   "outputs": [
    {
     "name": "stdout",
     "output_type": "stream",
     "text": [
      "{'name': 'Monty', 'age': 42, 'food': 'spam', 'nama': 'tanah'}\n"
     ]
    }
   ],
   "source": [
    "print(new_dict)"
   ]
  },
  {
   "cell_type": "code",
   "execution_count": 36,
   "id": "4d732825",
   "metadata": {},
   "outputs": [],
   "source": [
    "d = list(new_dict.keys())\n",
    "e = list(new_dict.values())"
   ]
  },
  {
   "cell_type": "code",
   "execution_count": 37,
   "id": "4aa28209",
   "metadata": {},
   "outputs": [
    {
     "name": "stdout",
     "output_type": "stream",
     "text": [
      "['name', 'age', 'food', 'nama']\n",
      "['Monty', 42, 'spam', 'tanah']\n"
     ]
    }
   ],
   "source": [
    "print(d)\n",
    "print(e)"
   ]
  }
 ],
 "metadata": {
  "kernelspec": {
   "display_name": "myenv",
   "language": "python",
   "name": "myenv"
  },
  "language_info": {
   "codemirror_mode": {
    "name": "ipython",
    "version": 3
   },
   "file_extension": ".py",
   "mimetype": "text/x-python",
   "name": "python",
   "nbconvert_exporter": "python",
   "pygments_lexer": "ipython3",
   "version": "3.9.13"
  }
 },
 "nbformat": 4,
 "nbformat_minor": 5
}
