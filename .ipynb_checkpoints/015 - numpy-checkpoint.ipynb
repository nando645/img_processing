{
 "cells": [
  {
   "cell_type": "code",
   "execution_count": 7,
   "id": "c5a74cfa",
   "metadata": {},
   "outputs": [],
   "source": [
    "a = list(range(1,6))"
   ]
  },
  {
   "cell_type": "code",
   "execution_count": 5,
   "id": "40c871d2",
   "metadata": {},
   "outputs": [],
   "source": [
    "b = [a*3 for a in a]"
   ]
  },
  {
   "cell_type": "code",
   "execution_count": 8,
   "id": "c040fe5e",
   "metadata": {},
   "outputs": [
    {
     "name": "stdout",
     "output_type": "stream",
     "text": [
      "[1, 2, 3, 4, 5] [3, 6, 9, 12, 15]\n"
     ]
    }
   ],
   "source": [
    "print(a, b)"
   ]
  },
  {
   "cell_type": "code",
   "execution_count": 10,
   "id": "8d256df8",
   "metadata": {},
   "outputs": [],
   "source": [
    "import numpy as np"
   ]
  },
  {
   "cell_type": "code",
   "execution_count": 16,
   "id": "17a973c1",
   "metadata": {},
   "outputs": [
    {
     "name": "stdout",
     "output_type": "stream",
     "text": [
      "[1 2 3 4 5] [ 2  4  6  8 10]\n"
     ]
    }
   ],
   "source": [
    "c = np.array(a)\n",
    "d = 2*c\n",
    "print(c, d)"
   ]
  },
  {
   "cell_type": "code",
   "execution_count": 23,
   "id": "2873be33",
   "metadata": {},
   "outputs": [],
   "source": [
    "f = np.array([[1,2,3],[4,5,6]])\n",
    "g = np.array([[7,8,9], [10,11,12]])"
   ]
  },
  {
   "cell_type": "code",
   "execution_count": 24,
   "id": "b9ac08d4",
   "metadata": {},
   "outputs": [
    {
     "name": "stdout",
     "output_type": "stream",
     "text": [
      "[[1 2 3]\n",
      " [4 5 6]]\n",
      "[[ 7  8  9]\n",
      " [10 11 12]]\n"
     ]
    }
   ],
   "source": [
    "print(f)\n",
    "print(g)"
   ]
  },
  {
   "cell_type": "code",
   "execution_count": 27,
   "id": "84928fe4",
   "metadata": {},
   "outputs": [
    {
     "name": "stdout",
     "output_type": "stream",
     "text": [
      "[[1 2 3]\n",
      " [4 5 6]\n",
      " [7 8 9]]\n"
     ]
    }
   ],
   "source": [
    "h = np.array([[1,2,3],[4,5,6],[7,8,9]])\n",
    "print(h)"
   ]
  },
  {
   "cell_type": "code",
   "execution_count": 32,
   "id": "72a832cc",
   "metadata": {},
   "outputs": [],
   "source": [
    "array = np.arange(20)"
   ]
  },
  {
   "cell_type": "code",
   "execution_count": 36,
   "id": "7c4f0cd1",
   "metadata": {},
   "outputs": [
    {
     "data": {
      "text/plain": [
       "(5,)"
      ]
     },
     "execution_count": 36,
     "metadata": {},
     "output_type": "execute_result"
    }
   ],
   "source": [
    "d.shape"
   ]
  },
  {
   "cell_type": "code",
   "execution_count": 60,
   "id": "d40fe9ec",
   "metadata": {},
   "outputs": [],
   "source": [
    "ad = np.array([[[1,2,3],[4,5,6]],\n",
    "              [[1,2,3],[4,5,6]]])"
   ]
  },
  {
   "cell_type": "code",
   "execution_count": 61,
   "id": "15e36bb2",
   "metadata": {},
   "outputs": [
    {
     "data": {
      "text/plain": [
       "(2, 2, 3)"
      ]
     },
     "execution_count": 61,
     "metadata": {},
     "output_type": "execute_result"
    }
   ],
   "source": [
    "ad.shape"
   ]
  },
  {
   "cell_type": "code",
   "execution_count": 62,
   "id": "06577251",
   "metadata": {},
   "outputs": [
    {
     "data": {
      "text/plain": [
       "array([[[1, 2, 3],\n",
       "        [4, 5, 6]],\n",
       "\n",
       "       [[1, 2, 3],\n",
       "        [4, 5, 6]]])"
      ]
     },
     "execution_count": 62,
     "metadata": {},
     "output_type": "execute_result"
    }
   ],
   "source": [
    "ad"
   ]
  },
  {
   "cell_type": "code",
   "execution_count": 111,
   "id": "a10d8472",
   "metadata": {},
   "outputs": [],
   "source": [
    "ran = np.zeros((500, 500, 1), dtype=\"uint8\")\n"
   ]
  },
  {
   "cell_type": "code",
   "execution_count": 108,
   "id": "6251c656",
   "metadata": {},
   "outputs": [
    {
     "name": "stdout",
     "output_type": "stream",
     "text": [
      "[[[0]\n",
      "  [0]\n",
      "  [0]\n",
      "  ...\n",
      "  [0]\n",
      "  [0]\n",
      "  [0]]\n",
      "\n",
      " [[0]\n",
      "  [0]\n",
      "  [0]\n",
      "  ...\n",
      "  [0]\n",
      "  [0]\n",
      "  [0]]\n",
      "\n",
      " [[0]\n",
      "  [0]\n",
      "  [0]\n",
      "  ...\n",
      "  [0]\n",
      "  [0]\n",
      "  [0]]\n",
      "\n",
      " ...\n",
      "\n",
      " [[0]\n",
      "  [0]\n",
      "  [0]\n",
      "  ...\n",
      "  [0]\n",
      "  [0]\n",
      "  [0]]\n",
      "\n",
      " [[0]\n",
      "  [0]\n",
      "  [0]\n",
      "  ...\n",
      "  [0]\n",
      "  [0]\n",
      "  [0]]\n",
      "\n",
      " [[0]\n",
      "  [0]\n",
      "  [0]\n",
      "  ...\n",
      "  [0]\n",
      "  [0]\n",
      "  [0]]]\n"
     ]
    }
   ],
   "source": [
    "print(ran)"
   ]
  },
  {
   "cell_type": "code",
   "execution_count": 100,
   "id": "d53fbf84",
   "metadata": {},
   "outputs": [
    {
     "data": {
      "text/plain": [
       "(3, 3, 3)"
      ]
     },
     "execution_count": 100,
     "metadata": {},
     "output_type": "execute_result"
    }
   ],
   "source": [
    "ran.shape"
   ]
  },
  {
   "cell_type": "code",
   "execution_count": 80,
   "id": "b69c3b70",
   "metadata": {},
   "outputs": [
    {
     "name": "stdout",
     "output_type": "stream",
     "text": [
      "[[150  50 150  50]\n",
      " [150 100 150 100]\n",
      " [  0 150   0   0]\n",
      " [100   0  50 100]]\n"
     ]
    }
   ],
   "source": [
    "test = ran * 50\n",
    "print(test)"
   ]
  },
  {
   "cell_type": "code",
   "execution_count": 1,
   "id": "0b7e5458",
   "metadata": {},
   "outputs": [],
   "source": [
    "from matplotlib import pyplot as plt\n",
    "import cv2 as cv\n",
    "import numpy as np"
   ]
  },
  {
   "cell_type": "code",
   "execution_count": 123,
   "id": "d69b9f27",
   "metadata": {},
   "outputs": [
    {
     "data": {
      "text/plain": [
       "<matplotlib.image.AxesImage at 0x1954483ae80>"
      ]
     },
     "execution_count": 123,
     "metadata": {},
     "output_type": "execute_result"
    },
    {
     "data": {
      "image/png": "[encoded data removed]",
      "text/plain": [
       "<Figure size 640x480 with 1 Axes>"
      ]
     },
     "metadata": {},
     "output_type": "display_data"
    }
   ],
   "source": [
    "plt.imshow(cv.cvtColor(ran+100, cv.COLOR_BGR2RGB))"
   ]
  },
  {
   "cell_type": "code",
   "execution_count": 2,
   "id": "b8f85519",
   "metadata": {},
   "outputs": [],
   "source": [
    "int1 = np.ones((2,2), dtype=np.int32)\n",
    "float1 = np.ones((2,2), dtype=np.float64)"
   ]
  },
  {
   "cell_type": "code",
   "execution_count": 3,
   "id": "479dd2e0",
   "metadata": {},
   "outputs": [],
   "source": [
    "float2 = int1+float1"
   ]
  },
  {
   "cell_type": "code",
   "execution_count": 4,
   "id": "26b9487f",
   "metadata": {},
   "outputs": [],
   "source": [
    "int2 = float2.astype(int)"
   ]
  },
  {
   "cell_type": "code",
   "execution_count": 5,
   "id": "c6ecf114",
   "metadata": {},
   "outputs": [
    {
     "data": {
      "text/plain": [
       "(array([[2, 2],\n",
       "        [2, 2]]),\n",
       " array([[2., 2.],\n",
       "        [2., 2.]]))"
      ]
     },
     "execution_count": 5,
     "metadata": {},
     "output_type": "execute_result"
    }
   ],
   "source": [
    "int2, float2"
   ]
  },
  {
   "cell_type": "code",
   "execution_count": 6,
   "id": "f322b55d",
   "metadata": {},
   "outputs": [],
   "source": [
    "img = cv.imread('python_for_image_processing_APEER/images/Osteosarcoma_01.tif')"
   ]
  },
  {
   "cell_type": "code",
   "execution_count": 7,
   "id": "ae0aa2a3",
   "metadata": {},
   "outputs": [
    {
     "name": "stdout",
     "output_type": "stream",
     "text": [
      "(1104, 1376, 3)\n",
      "uint8\n"
     ]
    }
   ],
   "source": [
    "print(img.shape)\n",
    "print(img.dtype)"
   ]
  },
  {
   "cell_type": "code",
   "execution_count": 20,
   "id": "dd2cf320",
   "metadata": {},
   "outputs": [
    {
     "name": "stdout",
     "output_type": "stream",
     "text": [
      "[[[120 153  21]\n",
      "  [160  95 115]\n",
      "  [101 174 100]\n",
      "  [ 28 166 164]\n",
      "  [ 24   8  90]\n",
      "  [ 55 116 193]\n",
      "  [152 110  83]\n",
      "  [ 53  19 132]\n",
      "  [ 95   4 152]\n",
      "  [ 36 134  35]]\n",
      "\n",
      " [[121  94 126]\n",
      "  [161  50 198]\n",
      "  [146  52  78]\n",
      "  [179  81  76]\n",
      "  [ 68  74  35]\n",
      "  [167 194  45]\n",
      "  [153 176 173]\n",
      "  [ 23  95  30]\n",
      "  [116 115 114]\n",
      "  [104 168  30]]\n",
      "\n",
      " [[170  84  49]\n",
      "  [170 152 170]\n",
      "  [ 12 174  99]\n",
      "  [ 49  47 166]\n",
      "  [160 119  57]\n",
      "  [ 63   5  48]\n",
      "  [ 59 181 180]\n",
      "  [166   3  56]\n",
      "  [101 106 116]\n",
      "  [ 31 161  61]]\n",
      "\n",
      " [[  7 173 120]\n",
      "  [ 76 134  15]\n",
      "  [110  87 163]\n",
      "  [149  68 188]\n",
      "  [163 181  18]\n",
      "  [116  89  94]\n",
      "  [  1 165  85]\n",
      "  [ 24 152 103]\n",
      "  [  8  44  57]\n",
      "  [117   5  17]]\n",
      "\n",
      " [[120 127  14]\n",
      "  [181 188 126]\n",
      "  [149  36  26]\n",
      "  [ 40   9  79]\n",
      "  [123 158  11]\n",
      "  [138 156  85]\n",
      "  [  8 189  75]\n",
      "  [ 67 196 132]\n",
      "  [ 27 187 118]\n",
      "  [ 90 152 118]]\n",
      "\n",
      " [[189  46  50]\n",
      "  [104  55 148]\n",
      "  [156 137  30]\n",
      "  [120  40  46]\n",
      "  [ 51  62  83]\n",
      "  [157  60  60]\n",
      "  [ 22 184  24]\n",
      "  [180  74  14]\n",
      "  [186  30  74]\n",
      "  [144  43 164]]\n",
      "\n",
      " [[195  13  91]\n",
      "  [ 44  70 180]\n",
      "  [147  81  92]\n",
      "  [121  36 196]\n",
      "  [ 59 186   7]\n",
      "  [ 55 143  22]\n",
      "  [160 196  36]\n",
      "  [ 31 166  25]\n",
      "  [ 44 174 114]\n",
      "  [145  16  76]]\n",
      "\n",
      " [[180 103 160]\n",
      "  [ 10  29  90]\n",
      "  [133   1  36]\n",
      "  [ 40 171  59]\n",
      "  [ 32 127  69]\n",
      "  [ 37   5 166]\n",
      "  [ 79 110  76]\n",
      "  [ 87  22  30]\n",
      "  [126 119  79]\n",
      "  [175 149 127]]\n",
      "\n",
      " [[160  45  19]\n",
      "  [190 173  46]\n",
      "  [ 27 108  59]\n",
      "  [142 103 159]\n",
      "  [ 70 181  23]\n",
      "  [123  49  88]\n",
      "  [ 16  73 102]\n",
      "  [ 96 154  75]\n",
      "  [114 166  72]\n",
      "  [ 13 102  24]]\n",
      "\n",
      " [[ 77 145  40]\n",
      "  [149  30  44]\n",
      "  [128  78 151]\n",
      "  [142  59  68]\n",
      "  [198  26 105]\n",
      "  [ 89 183 110]\n",
      "  [156  62 108]\n",
      "  [ 44  39  82]\n",
      "  [186 131  11]\n",
      "  [149 129 136]]]\n"
     ]
    }
   ],
   "source": [
    "a = np.random.randint(200, size=(10,10,3))\n",
    "print(a)"
   ]
  },
  {
   "cell_type": "code",
   "execution_count": 11,
   "id": "fcdffac3",
   "metadata": {},
   "outputs": [
    {
     "data": {
      "text/plain": [
       "(500, 500, 3)"
      ]
     },
     "execution_count": 11,
     "metadata": {},
     "output_type": "execute_result"
    }
   ],
   "source": [
    "a.shape"
   ]
  },
  {
   "cell_type": "code",
   "execution_count": 34,
   "id": "15ad404c",
   "metadata": {},
   "outputs": [],
   "source": [
    "b,g,r = cv.split(a)"
   ]
  },
  {
   "cell_type": "code",
   "execution_count": 35,
   "id": "90dd359a",
   "metadata": {},
   "outputs": [],
   "source": [
    "a_merge = cv.merge([r, g, b])"
   ]
  },
  {
   "cell_type": "code",
   "execution_count": 38,
   "id": "48efd901",
   "metadata": {},
   "outputs": [],
   "source": [
    "def rgb(img):\n",
    "    img_rgb = cv.cvtColor(img, cv.COLOR_BGR2RGB)\n",
    "    return img_rgb"
   ]
  },
  {
   "cell_type": "code",
   "execution_count": 41,
   "id": "19fb8f9e",
   "metadata": {},
   "outputs": [
    {
     "data": {
      "text/plain": [
       "<matplotlib.image.AxesImage at 0x227359381f0>"
      ]
     },
     "execution_count": 41,
     "metadata": {},
     "output_type": "execute_result"
    },
    {
     "data": {
      "image/png": "[encoded data removed]",
      "text/plain": [
       "<Figure size 640x480 with 1 Axes>"
      ]
     },
     "metadata": {},
     "output_type": "display_data"
    }
   ],
   "source": [
    "plt.imshow(a)"
   ]
  },
  {
   "cell_type": "code",
   "execution_count": 46,
   "id": "6319d2d7",
   "metadata": {},
   "outputs": [],
   "source": [
    "kernel = np.zeros((3,3),dtype='int32')"
   ]
  },
  {
   "cell_type": "code",
   "execution_count": 47,
   "id": "0bf95428",
   "metadata": {},
   "outputs": [
    {
     "data": {
      "text/plain": [
       "array([[0, 0, 0],\n",
       "       [0, 0, 0],\n",
       "       [0, 0, 0]])"
      ]
     },
     "execution_count": 47,
     "metadata": {},
     "output_type": "execute_result"
    }
   ],
   "source": [
    "kernel"
   ]
  },
  {
   "cell_type": "code",
   "execution_count": 50,
   "id": "8fdd7c16",
   "metadata": {},
   "outputs": [
    {
     "name": "stdout",
     "output_type": "stream",
     "text": [
      "(3, 3)\n"
     ]
    }
   ],
   "source": [
    "a = np.array([[1,2,3],[3,5,4],[4,9,1]])\n",
    "print(a.shape)"
   ]
  },
  {
   "cell_type": "code",
   "execution_count": 51,
   "id": "1daf1a3d",
   "metadata": {},
   "outputs": [
    {
     "name": "stdout",
     "output_type": "stream",
     "text": [
      "[[1 2 3]\n",
      " [3 5 4]\n",
      " [4 9 1]]\n"
     ]
    }
   ],
   "source": [
    "print(a)"
   ]
  },
  {
   "cell_type": "code",
   "execution_count": 94,
   "id": "c7eea5d7",
   "metadata": {},
   "outputs": [
    {
     "data": {
      "text/plain": [
       "array([[5, 4],\n",
       "       [9, 1]])"
      ]
     },
     "execution_count": 94,
     "metadata": {},
     "output_type": "execute_result"
    }
   ],
   "source": [
    "# a[row:column]\n",
    "a[1:3,1:3]"
   ]
  },
  {
   "cell_type": "code",
   "execution_count": 22,
   "id": "c7c906ac",
   "metadata": {},
   "outputs": [
    {
     "data": {
      "text/plain": [
       "<matplotlib.image.AxesImage at 0x2273387ef40>"
      ]
     },
     "execution_count": 22,
     "metadata": {},
     "output_type": "execute_result"
    },
    {
     "data": {
      "image/png": "[encoded data removed]",
      "text/plain": [
       "<Figure size 640x480 with 1 Axes>"
      ]
     },
     "metadata": {},
     "output_type": "display_data"
    }
   ],
   "source": [
    "plt.imshow(a)"
   ]
  },
  {
   "cell_type": "code",
   "execution_count": 18,
   "id": "ae9ff06a",
   "metadata": {},
   "outputs": [
    {
     "ename": "error",
     "evalue": "OpenCV(4.6.0) D:/a/opencv-python/opencv-python/opencv/modules/highgui/src/precomp.hpp:155: error: (-215:Assertion failed) src_depth != CV_16F && src_depth != CV_32S in function 'convertToShow'\n",
     "output_type": "error",
     "traceback": [
      "\u001b[1;31m---------------------------------------------------------------------------\u001b[0m",
      "\u001b[1;31merror\u001b[0m                                     Traceback (most recent call last)",
      "Cell \u001b[1;32mIn [18], line 1\u001b[0m\n\u001b[1;32m----> 1\u001b[0m \u001b[43mcv\u001b[49m\u001b[38;5;241;43m.\u001b[39;49m\u001b[43mimshow\u001b[49m\u001b[43m(\u001b[49m\u001b[38;5;124;43m'\u001b[39;49m\u001b[38;5;124;43m'\u001b[39;49m\u001b[43m,\u001b[49m\u001b[43ma\u001b[49m\u001b[43m)\u001b[49m\n\u001b[0;32m      2\u001b[0m cv\u001b[38;5;241m.\u001b[39mwaitKey(\u001b[38;5;241m0\u001b[39m) \n\u001b[0;32m      3\u001b[0m cv\u001b[38;5;241m.\u001b[39mdestroyAllWindows() \n",
      "\u001b[1;31merror\u001b[0m: OpenCV(4.6.0) D:/a/opencv-python/opencv-python/opencv/modules/highgui/src/precomp.hpp:155: error: (-215:Assertion failed) src_depth != CV_16F && src_depth != CV_32S in function 'convertToShow'\n"
     ]
    }
   ],
   "source": [
    "cv.imshow('',a)\n",
    "cv.waitKey(0) \n",
    "cv.destroyAllWindows() "
   ]
  },
  {
   "cell_type": "code",
   "execution_count": 102,
   "id": "4dc585e6",
   "metadata": {},
   "outputs": [
    {
     "data": {
      "text/plain": [
       "array([[1, 2, 3],\n",
       "       [3, 5, 4],\n",
       "       [4, 9, 1]])"
      ]
     },
     "execution_count": 102,
     "metadata": {},
     "output_type": "execute_result"
    }
   ],
   "source": [
    "a"
   ]
  },
  {
   "cell_type": "code",
   "execution_count": 99,
   "id": "424bc082",
   "metadata": {},
   "outputs": [
    {
     "data": {
      "text/plain": [
       "array([[1, 2, 3]])"
      ]
     },
     "execution_count": 99,
     "metadata": {},
     "output_type": "execute_result"
    }
   ],
   "source": [
    "a[0:1,:]"
   ]
  },
  {
   "cell_type": "code",
   "execution_count": 105,
   "id": "51f51877",
   "metadata": {},
   "outputs": [
    {
     "name": "stdout",
     "output_type": "stream",
     "text": [
      "[ 6 12 14]\n",
      "[ 8 16  8]\n"
     ]
    }
   ],
   "source": [
    "print(np.sum(a, axis=1)) # rows\n",
    "print(np.sum(a, axis=0)) # column\n"
   ]
  },
  {
   "cell_type": "code",
   "execution_count": 110,
   "id": "2cb1d66d",
   "metadata": {},
   "outputs": [
    {
     "data": {
      "text/plain": [
       "array([[1],\n",
       "       [2],\n",
       "       [3]])"
      ]
     },
     "execution_count": 110,
     "metadata": {},
     "output_type": "execute_result"
    }
   ],
   "source": [
    "a[0:1].T"
   ]
  },
  {
   "cell_type": "code",
   "execution_count": 108,
   "id": "19806d8a",
   "metadata": {},
   "outputs": [
    {
     "data": {
      "text/plain": [
       "array([[1, 2, 3],\n",
       "       [3, 5, 4],\n",
       "       [4, 9, 1]])"
      ]
     },
     "execution_count": 108,
     "metadata": {},
     "output_type": "execute_result"
    }
   ],
   "source": [
    "a"
   ]
  }
 ],
 "metadata": {
  "kernelspec": {
   "display_name": "myenv",
   "language": "python",
   "name": "myenv"
  },
  "language_info": {
   "codemirror_mode": {
    "name": "ipython",
    "version": 3
   },
   "file_extension": ".py",
   "mimetype": "text/x-python",
   "name": "python",
   "nbconvert_exporter": "python",
   "pygments_lexer": "ipython3",
   "version": "3.9.13"
  }
 },
 "nbformat": 4,
 "nbformat_minor": 5
}
