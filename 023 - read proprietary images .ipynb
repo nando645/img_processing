{
 "cells": [
  {
   "cell_type": "code",
   "execution_count": 4,
   "id": "a8e544d6",
   "metadata": {},
   "outputs": [],
   "source": [
    "import tifffile\n",
    "import numpy as np"
   ]
  },
  {
   "cell_type": "code",
   "execution_count": 5,
   "id": "20c15cde",
   "metadata": {},
   "outputs": [],
   "source": [
    "img1 = tifffile.imread('images/Osteosarcoma_01.tif')\n"
   ]
  },
  {
   "cell_type": "code",
   "execution_count": 6,
   "id": "80929a8a",
   "metadata": {},
   "outputs": [
    {
     "data": {
      "text/plain": [
       "(1104, 1376, 3)"
      ]
     },
     "execution_count": 6,
     "metadata": {},
     "output_type": "execute_result"
    }
   ],
   "source": [
    "img1.shape"
   ]
  }
 ],
 "metadata": {
  "kernelspec": {
   "display_name": "Python 3 (ipykernel)",
   "language": "python",
   "name": "python3"
  },
  "language_info": {
   "codemirror_mode": {
    "name": "ipython",
    "version": 3
   },
   "file_extension": ".py",
   "mimetype": "text/x-python",
   "name": "python",
   "nbconvert_exporter": "python",
   "pygments_lexer": "ipython3",
   "version": "3.9.13"
  }
 },
 "nbformat": 4,
 "nbformat_minor": 5
}
